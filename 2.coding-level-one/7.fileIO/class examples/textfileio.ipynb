{
 "cells": [
  {
   "cell_type": "code",
   "execution_count": 6,
   "metadata": {},
   "outputs": [],
   "source": [
    "def readWrite(in_name, out_name):\n",
    "    inf = open(in_name, \"r\")\n",
    "    outf = open(out_name, \"w\")\n",
    "    for line in inf:\n",
    "        outf.write(line)\n",
    "    inf.close()\n",
    "    outf.close()"
   ]
  },
  {
   "cell_type": "code",
   "execution_count": 5,
   "metadata": {},
   "outputs": [
    {
     "name": "stdin",
     "output_type": "stream",
     "text": [
      "input file name: C:\\Users\\Thimma Reddy\\Documents\\GitHub\\training-bvrit\\2.coding-level-one\\7.fileIO\\test1.txt\n",
      "output file name: C:\\Users\\Thimma Reddy\\Documents\\GitHub\\training-bvrit\\2.coding-level-one\\7.fileIO\\out1.txt\n"
     ]
    }
   ],
   "source": [
    "in_name = input(\"input file name:\")\n",
    "out_name = input(\"output file name:\")\n",
    "readWrite(in_name, out_name)"
   ]
  },
  {
   "cell_type": "code",
   "execution_count": null,
   "metadata": {},
   "outputs": [],
   "source": []
  }
 ],
 "metadata": {
  "kernelspec": {
   "display_name": "Python 3",
   "language": "python",
   "name": "python3"
  },
  "language_info": {
   "codemirror_mode": {
    "name": "ipython",
    "version": 3
   },
   "file_extension": ".py",
   "mimetype": "text/x-python",
   "name": "python",
   "nbconvert_exporter": "python",
   "pygments_lexer": "ipython3",
   "version": "3.8.3"
  }
 },
 "nbformat": 4,
 "nbformat_minor": 4
}
