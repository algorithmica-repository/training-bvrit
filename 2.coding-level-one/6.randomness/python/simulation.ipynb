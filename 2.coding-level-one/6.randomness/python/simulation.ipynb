{
 "cells": [
  {
   "cell_type": "code",
   "execution_count": 1,
   "metadata": {},
   "outputs": [
    {
     "name": "stdout",
     "output_type": "stream",
     "text": [
      "1\n"
     ]
    }
   ],
   "source": [
    "#simulation of coin toss experiment\n",
    "import random\n",
    "print(random.randint(0,1))"
   ]
  },
  {
   "cell_type": "code",
   "execution_count": 2,
   "metadata": {},
   "outputs": [
    {
     "name": "stdout",
     "output_type": "stream",
     "text": [
      "4\n"
     ]
    }
   ],
   "source": [
    "#simulation of dice throw experiment\n",
    "print(random.randint(1,6))"
   ]
  },
  {
   "cell_type": "code",
   "execution_count": 3,
   "metadata": {},
   "outputs": [
    {
     "name": "stdout",
     "output_type": "stream",
     "text": [
      "500790\n",
      "499210\n"
     ]
    }
   ],
   "source": [
    "#how do you know that experiment is giving outcome with equal chance?\n",
    "nheads = 0\n",
    "ntails = 0\n",
    "nexperiments = 100\n",
    "for i in range(nexperiments):\n",
    "    if(random.randint(0,1) == 0):\n",
    "        nheads+=1\n",
    "    else:\n",
    "        ntails+=1\n",
    "print(nheads)\n",
    "print(ntails)"
   ]
  },
  {
   "cell_type": "code",
   "execution_count": 4,
   "metadata": {},
   "outputs": [
    {
     "name": "stdout",
     "output_type": "stream",
     "text": [
      "9\n",
      "4\n",
      "9\n",
      "8\n",
      "2\n",
      "2\n",
      "2\n",
      "8\n",
      "2\n",
      "1\n"
     ]
    }
   ],
   "source": [
    "#what is the use of setting seed?\n",
    "#when you dont set seed, it uses system time as the seed \n",
    "for i in range(10):\n",
    "    print(random.randint(1, 10))"
   ]
  },
  {
   "cell_type": "code",
   "execution_count": 5,
   "metadata": {},
   "outputs": [
    {
     "name": "stdout",
     "output_type": "stream",
     "text": [
      "3\n",
      "8\n",
      "8\n",
      "3\n",
      "7\n",
      "6\n",
      "7\n",
      "9\n",
      "2\n",
      "9\n"
     ]
    }
   ],
   "source": [
    "random.seed(100)\n",
    "for i in range(10):\n",
    "    print(random.randint(1, 10))"
   ]
  },
  {
   "cell_type": "code",
   "execution_count": 7,
   "metadata": {},
   "outputs": [
    {
     "name": "stdout",
     "output_type": "stream",
     "text": [
      "4\n",
      "5\n",
      "6\n",
      "6\n",
      "5\n",
      "6\n",
      "6\n",
      "6\n",
      "6\n",
      "7\n"
     ]
    }
   ],
   "source": [
    "#game of betting: how many heads will be turned up in 10 coin tosses?\n",
    "def getNumberOfHeads():\n",
    "    nheads = 0\n",
    "    for i in range(10):\n",
    "        if(random.randint(0,1) == 0):\n",
    "            nheads += 1\n",
    "    return nheads\n",
    "\n",
    "for i in range(10):\n",
    "    print(getNumberOfHeads())"
   ]
  },
  {
   "cell_type": "code",
   "execution_count": null,
   "metadata": {},
   "outputs": [],
   "source": []
  }
 ],
 "metadata": {
  "kernelspec": {
   "display_name": "Python 3",
   "language": "python",
   "name": "python3"
  },
  "language_info": {
   "codemirror_mode": {
    "name": "ipython",
    "version": 3
   },
   "file_extension": ".py",
   "mimetype": "text/x-python",
   "name": "python",
   "nbconvert_exporter": "python",
   "pygments_lexer": "ipython3",
   "version": "3.8.3"
  }
 },
 "nbformat": 4,
 "nbformat_minor": 4
}
