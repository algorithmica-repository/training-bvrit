{
 "cells": [
  {
   "cell_type": "code",
   "execution_count": 22,
   "metadata": {},
   "outputs": [
    {
     "name": "stdout",
     "output_type": "stream",
     "text": [
      "4\n"
     ]
    }
   ],
   "source": [
    "#simulation of dice throw experiment\n",
    "print(random.randint(1,6))"
   ]
  },
  {
   "cell_type": "code",
   "execution_count": 2,
   "metadata": {},
   "outputs": [
    {
     "name": "stdout",
     "output_type": "stream",
     "text": [
      "1\n"
     ]
    }
   ],
   "source": [
    "#simulation of coin toss experiment\n",
    "import random\n",
    "print(random.randint(0,1))"
   ]
  },
  {
   "cell_type": "code",
   "execution_count": 18,
   "metadata": {},
   "outputs": [
    {
     "name": "stdout",
     "output_type": "stream",
     "text": [
      "499897\n",
      "500103\n"
     ]
    }
   ],
   "source": [
    "#how do you know that experiment is giving outcome with equal chance?\n",
    "nheads = 0\n",
    "ntails = 0\n",
    "nexperiments = 1000000\n",
    "for i in range(nexperiments):\n",
    "    if(random.randint(0,1) == 0):\n",
    "        nheads+=1\n",
    "    else:\n",
    "        ntails+=1\n",
    "print(nheads)\n",
    "print(ntails)"
   ]
  },
  {
   "cell_type": "code",
   "execution_count": 37,
   "metadata": {},
   "outputs": [
    {
     "name": "stdout",
     "output_type": "stream",
     "text": [
      "5.220000000000001\n"
     ]
    }
   ],
   "source": [
    "#game of betting: how many heads will be turned up in 10 coin tosses?\n",
    "def getNumberOfHeads():\n",
    "    nheads = 0\n",
    "    for i in range(10):\n",
    "        if(random.randint(0,1) == 0):\n",
    "            nheads += 1\n",
    "    return nheads\n",
    "\n",
    "nwins = 0\n",
    "nexperiments = 10000\n",
    "targetCount = 8\n",
    "for i in range(nexperiments):\n",
    "    if(getNumberOfHeads() >= targetCount):\n",
    "        nwins += 1\n",
    "print(nwins/nexperiments*100)\n",
    "        "
   ]
  },
  {
   "cell_type": "code",
   "execution_count": 5,
   "metadata": {},
   "outputs": [
    {
     "name": "stdout",
     "output_type": "stream",
     "text": [
      "10\n",
      "8\n",
      "10\n",
      "4\n",
      "2\n",
      "8\n",
      "7\n",
      "10\n",
      "1\n",
      "2\n"
     ]
    }
   ],
   "source": [
    "#what is the use of setting seed?\n",
    "#when you dont set seed, it uses system time as the seed \n",
    "for i in range(10):\n",
    "    print(random.randint(1, 10))"
   ]
  },
  {
   "cell_type": "code",
   "execution_count": 9,
   "metadata": {},
   "outputs": [
    {
     "name": "stdout",
     "output_type": "stream",
     "text": [
      "3\n",
      "8\n",
      "8\n",
      "3\n",
      "7\n",
      "6\n",
      "7\n",
      "9\n",
      "2\n",
      "9\n"
     ]
    }
   ],
   "source": [
    "random.seed(100)\n",
    "for i in range(10):\n",
    "    print(random.randint(1, 10))"
   ]
  },
  {
   "cell_type": "code",
   "execution_count": null,
   "metadata": {},
   "outputs": [],
   "source": []
  }
 ],
 "metadata": {
  "kernelspec": {
   "display_name": "Python 3",
   "language": "python",
   "name": "python3"
  },
  "language_info": {
   "codemirror_mode": {
    "name": "ipython",
    "version": 3
   },
   "file_extension": ".py",
   "mimetype": "text/x-python",
   "name": "python",
   "nbconvert_exporter": "python",
   "pygments_lexer": "ipython3",
   "version": "3.8.3"
  }
 },
 "nbformat": 4,
 "nbformat_minor": 4
}
