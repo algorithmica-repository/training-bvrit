{
 "cells": [
  {
   "cell_type": "code",
   "execution_count": 2,
   "metadata": {},
   "outputs": [
    {
     "name": "stdout",
     "output_type": "stream",
     "text": [
      "10\n",
      "10.4\n",
      "python\n",
      "True\n",
      "<class 'int'>\n",
      "<class 'float'>\n",
      "<class 'str'>\n",
      "<class 'bool'>\n"
     ]
    }
   ],
   "source": [
    "#Literals\n",
    "print(10)\n",
    "print(10.4)\n",
    "print(\"python\")\n",
    "print(True)\n",
    "\n",
    "#how do you know type of literals?\n",
    "print(type(10))\n",
    "print(type(10.4))\n",
    "print(type(\"python\"))\n",
    "print(type(True))"
   ]
  },
  {
   "cell_type": "code",
   "execution_count": 3,
   "metadata": {},
   "outputs": [
    {
     "name": "stdout",
     "output_type": "stream",
     "text": [
      "<class 'int'>\n",
      "<class 'float'>\n",
      "<class 'str'>\n",
      "<class 'bool'>\n"
     ]
    }
   ],
   "source": [
    "#variables\n",
    "a = 10\n",
    "b = 10.4\n",
    "c = \"python\"\n",
    "d = True\n",
    "\n",
    "#how do you know type of variables?\n",
    "print(type(a))\n",
    "print(type(b))\n",
    "print(type(c))\n",
    "print(type(d))"
   ]
  },
  {
   "cell_type": "code",
   "execution_count": 4,
   "metadata": {},
   "outputs": [
    {
     "name": "stdout",
     "output_type": "stream",
     "text": [
      "200\n"
     ]
    }
   ],
   "source": [
    "#overwrite the content of variables\n",
    "a = 200\n",
    "print(a)"
   ]
  },
  {
   "cell_type": "code",
   "execution_count": null,
   "metadata": {},
   "outputs": [],
   "source": [
    "# How will you write an expression?\n",
    "# intermix of literals, variables and operators\n",
    "p = 2\n",
    "q = 4\n",
    "print(p * 0.15 + q * 0.2)\n",
    "print(\"python\" + \"program\")"
   ]
  },
  {
   "cell_type": "code",
   "execution_count": null,
   "metadata": {},
   "outputs": [],
   "source": [
    "#expression evaluation\n",
    "x = 1\n",
    "y = 2\n",
    "z = 30\n",
    "w = 24\n",
    "print(x * 10 + y * 20 - z / 20 + w % 10)"
   ]
  },
  {
   "cell_type": "code",
   "execution_count": null,
   "metadata": {},
   "outputs": [],
   "source": [
    "# assignment statement\n",
    "r = x * 10 + y * 20 - z / 20 + w % 10\n",
    "print(r)"
   ]
  },
  {
   "cell_type": "code",
   "execution_count": null,
   "metadata": {},
   "outputs": [],
   "source": [
    "#naming conventions for variables\n",
    "numOfContainersLessThanLitre = 10\n",
    "numOfContainersMoreThanLitre = 20"
   ]
  }
 ],
 "metadata": {
  "kernelspec": {
   "display_name": "Python 3",
   "language": "python",
   "name": "python3"
  },
  "language_info": {
   "codemirror_mode": {
    "name": "ipython",
    "version": 3
   },
   "file_extension": ".py",
   "mimetype": "text/x-python",
   "name": "python",
   "nbconvert_exporter": "python",
   "pygments_lexer": "ipython3",
   "version": "3.8.3"
  }
 },
 "nbformat": 4,
 "nbformat_minor": 4
}
